{
 "cells": [
  {
   "cell_type": "markdown",
   "id": "5f64a0e0-c01f-4d53-8765-30b88786f71c",
   "metadata": {},
   "source": [
    "# Weekly Activity 1\n",
    "## Tutorial 2"
   ]
  },
  {
   "cell_type": "markdown",
   "id": "6a1b7be0-e712-4893-a535-4e299edcbf86",
   "metadata": {},
   "source": [
    "## Exercise 1:\n",
    "uint8\n",
    "Range: 0 to 255\n",
    "\n",
    "int8\n",
    "Range: -128 to 127\n",
    "\n",
    "uint32\n",
    "Range: 0 to 4,294,967,295\n",
    "\n",
    "int32\n",
    "Range: -2,147,483,648 to 2,147,483,647"
   ]
  },
  {
   "cell_type": "markdown",
   "id": "708a9dfc-3673-427a-bc30-c8e3e6e19423",
   "metadata": {},
   "source": [
    "## Exercise 2:"
   ]
  },
  {
   "cell_type": "code",
   "execution_count": 4,
   "id": "54b04c9e-0a60-4aa4-a81b-2527ae690afc",
   "metadata": {},
   "outputs": [
    {
     "name": "stdout",
     "output_type": "stream",
     "text": [
      "Even\n",
      "Odd\n"
     ]
    }
   ],
   "source": [
    "def is_odd_or_even(number):\n",
    "    if number % 2 == 0:\n",
    "        return \"Even\"\n",
    "    else:\n",
    "        return \"Odd\"\n",
    "\n",
    "# Example usage\n",
    "print(is_odd_or_even(4)) # Output: Even\n",
    "print(is_odd_or_even(7)) # Output: Odd"
   ]
  },
  {
   "cell_type": "markdown",
   "id": "c1e1d77d-d983-4d08-ab1c-2473654d8118",
   "metadata": {},
   "source": [
    "## Exercise 3:"
   ]
  },
  {
   "cell_type": "code",
   "execution_count": 5,
   "id": "dc3b273e-cb76-44e0-8992-077a656172fa",
   "metadata": {},
   "outputs": [
    {
     "name": "stdout",
     "output_type": "stream",
     "text": [
      "Python list time: 0.06249 seconds\n",
      "Numpy array time: 0.00000 seconds\n"
     ]
    }
   ],
   "source": [
    "import numpy as np\n",
    "import time\n",
    "\n",
    "# Create large arrays\n",
    "size = 1000000\n",
    "python_list1 = list(range(size))\n",
    "python_list2 = list(range(size))\n",
    "\n",
    "numpy_array1 = np.arange(size)\n",
    "numpy_array2 = np.arange(size)\n",
    "\n",
    "# Python lists\n",
    "start_time = time.time()\n",
    "python_result = [x + y for x, y in zip(python_list1, python_list2)]\n",
    "python_time = time.time() - start_time\n",
    "\n",
    "# Numpy arrays\n",
    "start_time = time.time()\n",
    "numpy_result = numpy_array1 + numpy_array2\n",
    "numpy_time =time.time() - start_time\n",
    "\n",
    "print(f\"Python list time: {python_time:.5f} seconds\")\n",
    "print(f\"Numpy array time: {numpy_time:.5f} seconds\")"
   ]
  },
  {
   "cell_type": "markdown",
   "id": "2beb1c69-4b6f-4f60-a409-7bb3339d2bce",
   "metadata": {},
   "source": [
    "## Exercise 4:"
   ]
  },
  {
   "cell_type": "code",
   "execution_count": 13,
   "id": "bb5a697e-aef0-44ba-9f08-d973fc62c3a4",
   "metadata": {},
   "outputs": [
    {
     "name": "stdout",
     "output_type": "stream",
     "text": [
      "Initial my_arr:  [0 1 2 3 4 5 6 7 8 9]\n",
      "Initial arr_slice:  [0 1 2 3 4 5 6 7 8 9]\n",
      "my_arr:  [0 1 2 3 4 5 6 7 8 9]\n",
      "arr_slice:  [55  1  2  3  4  5  6  7  8  9]\n"
     ]
    }
   ],
   "source": [
    "import numpy as np\n",
    "\n",
    "# Create a 1D array\n",
    "my_arr = np.arange(10)\n",
    "print(\"Initial my_arr: \",my_arr)\n",
    "\n",
    "# Create a slice\n",
    "arr_slice = my_arr.copy()\n",
    "print(\"Initial arr_slice: \",arr_slice)\n",
    "\n",
    "# Change the first element of arr_slice\n",
    "arr_slice[0] = 55\n",
    "\n",
    "print(\"my_arr: \", my_arr)\n",
    "print(\"arr_slice: \",arr_slice)"
   ]
  },
  {
   "cell_type": "markdown",
   "id": "c8b4b744-260b-4fc7-b2e8-fc9feb0d5dc2",
   "metadata": {},
   "source": [
    "## Exercise 5:"
   ]
  },
  {
   "cell_type": "code",
   "execution_count": 26,
   "id": "6b81fb72-785a-4216-8b4a-3e878e334e1b",
   "metadata": {},
   "outputs": [
    {
     "data": {
      "image/png": "[encoded data removed]",
      "text/plain": [
       "<Figure size 640x480 with 1 Axes>"
      ]
     },
     "metadata": {},
     "output_type": "display_data"
    }
   ],
   "source": [
    "import numpy as np\n",
    "import matplotlib.pyplot as plt\n",
    "\n",
    "# Define the dimensions of the image\n",
    "height, width = 200, 200\n",
    "image = np.zeros((height, width), dtype=\"uint8\")\n",
    "\n",
    "# Define the center and radius of the circle\n",
    "center_x, center_y = width // 2, height // 2\n",
    "x,y=np.ogrid[:height,:width]\n",
    "radius = 30\n",
    "\n",
    "mask = (x - center_x)**2 + (y -center_y)**2 <= radius**2\n",
    "image[mask]=50\n",
    "\n",
    "# Display the image\n",
    "plt.imshow(image,cmap=\"gray\")\n",
    "plt.title(\"Image with white circle\")\n",
    "plt.axis('off')\n",
    "plt.show()"
   ]
  },
  {
   "cell_type": "code",
   "execution_count": null,
   "id": "077fbf40-8f42-49ec-a27c-4ae60d734573",
   "metadata": {},
   "outputs": [],
   "source": []
  }
 ],
 "metadata": {
  "kernelspec": {
   "display_name": "Python 3 (ipykernel)",
   "language": "python",
   "name": "python3"
  },
  "language_info": {
   "codemirror_mode": {
    "name": "ipython",
    "version": 3
   },
   "file_extension": ".py",
   "mimetype": "text/x-python",
   "name": "python",
   "nbconvert_exporter": "python",
   "pygments_lexer": "ipython3",
   "version": "3.12.4"
  }
 },
 "nbformat": 4,
 "nbformat_minor": 5
}
